{
 "cells": [
  {
   "cell_type": "markdown",
   "metadata": {},
   "source": [
    "# 01_Preprocess.ipynb\n",
    "### Facial Emotion Recognition — Data Preprocessing (Clean Version)\n",
    "This notebook:\n",
    "- Loads `fer2013.csv`\n",
    "- Converts pixel strings → cropped & resized images\n",
    "- Uses MTCNN (optional) for face detection\n",
    "- Displays a single clean tqdm progress bar\n",
    "- Suppresses all TensorFlow noise for a neat output"
   ]
  },
  {
   "cell_type": "code",
   "execution_count": 8,
   "metadata": {},
   "outputs": [],
   "source": [
    "# Install dependencies (if not already installed)\n",
    "!pip install mtcnn opencv-python pandas numpy tqdm pillow scikit-learn tensorflow --quiet"
   ]
  },
  {
   "cell_type": "code",
   "execution_count": 2,
   "metadata": {},
   "outputs": [],
   "source": [
    "import cv2\n",
    "import numpy as np\n",
    "import pandas as pd\n",
    "import os, sys, time\n",
    "from tqdm import tqdm\n",
    "import tensorflow as tf\n",
    "from sklearn.model_selection import train_test_split\n",
    "from mtcnn.mtcnn import MTCNN\n",
    "from PIL import Image\n",
    "\n",
    "os.environ['TF_CPP_MIN_LOG_LEVEL'] = '3'\n",
    "tf.get_logger().setLevel('ERROR')\n",
    "tf.autograph.set_verbosity(0)\n",
    "tf.compat.v1.logging.set_verbosity(tf.compat.v1.logging.ERROR)"
   ]
  },
  {
   "cell_type": "code",
   "execution_count": 3,
   "metadata": {},
   "outputs": [
    {
     "name": "stdout",
     "output_type": "stream",
     "text": [
      "Reading dataset from: ../data/fer2013.csv\n",
      "Loaded 35887 samples.\n"
     ]
    }
   ],
   "source": [
    "# Paths and parameters\n",
    "DATA_PATH = '../data/fer2013.csv'\n",
    "OUTPUT_DIR = '../data/cropped_faces'\n",
    "TARGET_SIZE = 224\n",
    "USE_MTCNN = True\n",
    "os.makedirs(OUTPUT_DIR, exist_ok=True)\n",
    "\n",
    "print(f\"Reading dataset from: {DATA_PATH}\")\n",
    "df = pd.read_csv(DATA_PATH)\n",
    "df = df[df['pixels'].notnull()]\n",
    "print(f\"Loaded {len(df)} samples.\")"
   ]
  },
  {
   "cell_type": "code",
   "execution_count": 4,
   "metadata": {},
   "outputs": [],
   "source": [
    "def pixels_to_image(pixels_str):\n",
    "    arr = np.fromstring(pixels_str, dtype=int, sep=' ')\n",
    "    img = arr.reshape(48, 48).astype('uint8')\n",
    "    return cv2.cvtColor(img, cv2.COLOR_GRAY2BGR)\n",
    "\n",
    "def detect_and_crop(img, target_size=224, use_mtcnn=True):\n",
    "    if not use_mtcnn:\n",
    "        return cv2.resize(img, (target_size, target_size))\n",
    "    global detector\n",
    "    if 'detector' not in globals():\n",
    "        detector = MTCNN()\n",
    "    results = detector.detect_faces(img)\n",
    "    if not results:\n",
    "        return cv2.resize(img, (target_size, target_size))\n",
    "    x, y, w, h = results[0]['box']\n",
    "    x, y = max(0, x), max(0, y)\n",
    "    face = img[y:y + h, x:x + w]\n",
    "    return cv2.resize(face, (target_size, target_size))"
   ]
  },
  {
   "cell_type": "code",
   "execution_count": 5,
   "metadata": {},
   "outputs": [
    {
     "name": "stderr",
     "output_type": "stream",
     "text": [
      "Converting pixel data: 100%|██████████| 35887/35887 [00:08<00:00, 4452.43it/s]\n"
     ]
    }
   ],
   "source": [
    "start_time = time.time()\n",
    "\n",
    "# Convert pixel strings to temporary images\n",
    "temp_dir = os.path.join(OUTPUT_DIR, 'temp_raw')\n",
    "os.makedirs(temp_dir, exist_ok=True)\n",
    "X_paths, y_labels = [], []\n",
    "\n",
    "for idx, row in tqdm(df.iterrows(), total=len(df), desc='Converting pixel data', dynamic_ncols=True):\n",
    "    img = pixels_to_image(row['pixels'])\n",
    "    label = str(int(row['emotion']))\n",
    "    out_path = os.path.join(temp_dir, f'{idx}_{label}.jpg')\n",
    "    Image.fromarray(img).save(out_path)\n",
    "    X_paths.append(out_path)\n",
    "    y_labels.append(label)\n",
    "\n",
    "X_train, X_val, y_train, y_val = train_test_split(X_paths, y_labels, test_size=0.15, stratify=y_labels, random_state=42)\n",
    "splits = [('train', X_train, y_train), ('val', X_val, y_val)]"
   ]
  },
  {
   "cell_type": "code",
   "execution_count": 6,
   "metadata": {},
   "outputs": [
    {
     "name": "stdout",
     "output_type": "stream",
     "text": [
      "Processing all images: 100%|██████████| 35887/35887 [1:55:12<00:00,  5.19it/s]     \n",
      "\n",
      "✅ Completed in 115.21 minutes  •  Failed images: 0\n"
     ]
    }
   ],
   "source": [
    "os.environ[\"TF_CPP_MIN_LOG_LEVEL\"] = \"3\"\n",
    "tf.get_logger().setLevel(\"ERROR\")\n",
    "tf.autograph.set_verbosity(0)\n",
    "tf.compat.v1.logging.set_verbosity(tf.compat.v1.logging.ERROR)\n",
    "try:\n",
    "    tf.keras.utils.disable_interactive_logging()\n",
    "except Exception:\n",
    "    pass\n",
    "\n",
    "all_images = [\n",
    "    (img_path, label, split_name)\n",
    "    for split_name, X_split, y_split in splits\n",
    "    for img_path, label in zip(X_split, y_split)\n",
    "]\n",
    "\n",
    "failed = 0\n",
    "start_time = time.time()\n",
    "\n",
    "with tqdm(total=len(all_images), desc=\"Processing all images\", dynamic_ncols=True, file=sys.stdout, position=0, leave=True) as pbar:\n",
    "    for img_path, label, split_name in all_images:\n",
    "        img = cv2.imread(img_path)\n",
    "        if img is None:\n",
    "            failed += 1\n",
    "            pbar.update(1)\n",
    "            continue\n",
    "\n",
    "        # Face detection & crop\n",
    "        cropped = detect_and_crop(img, target_size=TARGET_SIZE, use_mtcnn=USE_MTCNN)\n",
    "\n",
    "        # Save output\n",
    "        out_folder = os.path.join(OUTPUT_DIR, split_name, label)\n",
    "        os.makedirs(out_folder, exist_ok=True)\n",
    "        out_file = os.path.join(out_folder, os.path.basename(img_path))\n",
    "        cv2.imwrite(out_file, cropped)\n",
    "\n",
    "        pbar.update(1)\n",
    "\n",
    "elapsed = time.time() - start_time\n",
    "print(f\"\\n✅ Completed in {elapsed/60:.2f} minutes  •  Failed images: {failed}\")"
   ]
  },
  {
   "cell_type": "code",
   "execution_count": 7,
   "metadata": {},
   "outputs": [
    {
     "name": "stdout",
     "output_type": "stream",
     "text": [
      "\n",
      "✅ Preprocessing completed successfully!\n",
      "Total processed: 35887\n",
      "Failed: 0\n",
      "Time taken: 115.21 minutes\n",
      "Processed data saved in: ../data/cropped_faces\n"
     ]
    }
   ],
   "source": [
    "total_processed = len(all_images) - failed\n",
    "print(f\"\\n✅ Preprocessing completed successfully!\")\n",
    "print(f\"Total processed: {total_processed}\")\n",
    "print(f\"Failed: {failed}\")\n",
    "print(f\"Time taken: {elapsed/60:.2f} minutes\")\n",
    "print(f\"Processed data saved in: {OUTPUT_DIR}\")"
   ]
  }
 ],
 "metadata": {
  "kernelspec": {
   "display_name": "3.9.19",
   "language": "python",
   "name": "python3"
  },
  "language_info": {
   "codemirror_mode": {
    "name": "ipython",
    "version": 3
   },
   "file_extension": ".py",
   "mimetype": "text/x-python",
   "name": "python",
   "nbconvert_exporter": "python",
   "pygments_lexer": "ipython3",
   "version": "3.9.19"
  }
 },
 "nbformat": 4,
 "nbformat_minor": 2
}
